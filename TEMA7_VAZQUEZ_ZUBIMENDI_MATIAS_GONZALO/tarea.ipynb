{
 "cells": [
  {
   "cell_type": "code",
   "execution_count": null,
   "metadata": {},
   "outputs": [],
   "source": [
    "import ipywidgets as widgets\n",
    "from IPython.display import display, HTML\n",
    "\n",
    "# elementos de la interfaz\n",
    "radio1 = widgets.RadioButtons(options=['Radio Button 1', 'Radio Button 2', 'Radio Button 3'], description='Radio:')\n",
    "checkbox = widgets.Checkbox(description='Tri-state check box')\n",
    "default_button = widgets.Button(description='Default Push Button')\n",
    "toggle_button = widgets.ToggleButton(description='Toggle Push Button')\n",
    "group3_checkbox = widgets.Checkbox(description='Group 3')\n",
    "flat_button = widgets.Button(description='Flat Push Button')\n",
    "code_edit = widgets.Text(description='Code:')\n",
    "number_spinbox = widgets.IntText(description='Number:')\n",
    "date_edit = widgets.DatePicker(description='Date:')\n",
    "table = widgets.GridspecLayout(4, 2)\n",
    "table[0, 0] = widgets.Label(\"1\")\n",
    "table[0, 1] = widgets.Label(\"2\")\n",
    "text_edit = widgets.Textarea()\n",
    "slider = widgets.IntSlider(description='Slider')\n",
    "dial = widgets.FloatSlider(description='Dial', min=0, max=360)\n",
    "progress_bar = widgets.IntProgress(value=24, min=0, max=100, description='Progress:')\n",
    "style_combobox = widgets.Dropdown(options=['--Choose one--'], description='Style:')\n",
    "\n",
    "# Disposición de la interfaz\n",
    "grid = widgets.GridspecLayout(5, 3, height='400px')\n",
    "grid[0, 0] = widgets.VBox([radio1, checkbox])\n",
    "grid[0, 1] = widgets.VBox([default_button, toggle_button])\n",
    "grid[0, 2] = widgets.VBox([group3_checkbox, flat_button, code_edit, number_spinbox, date_edit])\n",
    "grid[1, 0:2] = table\n",
    "grid[1, 2] = text_edit\n",
    "grid[2, 0:2] = slider\n",
    "grid[2, 2] = dial\n",
    "grid[3, 0:3] = progress_bar\n",
    "grid[4, 0] = widgets.Label(\"Style:\")\n",
    "grid[4, 1] = style_combobox\n",
    "\n",
    "# Mostrar la interfaz\n",
    "display(HTML(\"<h1>Ejemplo de interfaz en Google Colab</h1>\"))\n",
    "display(grid)\n"
   ]
  }
 ],
 "metadata": {
  "kernelspec": {
   "display_name": "Python 3",
   "language": "python",
   "name": "python3"
  },
  "language_info": {
   "name": "python",
   "version": "3.11.9"
  }
 },
 "nbformat": 4,
 "nbformat_minor": 2
}
